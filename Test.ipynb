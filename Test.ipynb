{
 "cells": [
  {
   "cell_type": "code",
   "execution_count": 36,
   "metadata": {},
   "outputs": [
    {
     "name": "stdout",
     "output_type": "stream",
     "text": [
      "Gurobi Optimizer version 9.5.1 build v9.5.1rc2 (mac64[rosetta2])\n",
      "Thread count: 10 physical cores, 10 logical processors, using up to 10 threads\n",
      "Optimize a model with 51 rows, 50 columns and 222 nonzeros\n",
      "Model fingerprint: 0x41d6e97e\n",
      "Variable types: 0 continuous, 50 integer (50 binary)\n",
      "Coefficient statistics:\n",
      "  Matrix range     [1e+00, 4e+00]\n",
      "  Objective range  [0e+00, 0e+00]\n",
      "  Bounds range     [1e+00, 1e+00]\n",
      "  RHS range        [1e+00, 9e+00]\n",
      "Presolve removed 20 rows and 18 columns\n",
      "Presolve time: 0.00s\n",
      "Presolved: 31 rows, 32 columns, 124 nonzeros\n",
      "Variable types: 0 continuous, 32 integer (32 binary)\n",
      "\n",
      "Root relaxation: objective 0.000000e+00, 22 iterations, 0.00 seconds (0.00 work units)\n",
      "\n",
      "    Nodes    |    Current Node    |     Objective Bounds      |     Work\n",
      " Expl Unexpl |  Obj  Depth IntInf | Incumbent    BestBd   Gap | It/Node Time\n",
      "\n",
      "     0     0    0.00000    0    5          -    0.00000      -     -    0s\n",
      "H    0     0                       0.0000000    0.00000  0.00%     -    0s\n",
      "\n",
      "Explored 1 nodes (22 simplex iterations) in 0.01 seconds (0.00 work units)\n",
      "Thread count was 10 (of 10 available processors)\n",
      "\n",
      "Solution count 1: 0 \n",
      "\n",
      "Optimal solution found (tolerance 1.00e-04)\n",
      "Best objective 0.000000000000e+00, best bound 0.000000000000e+00, gap 0.0000%\n",
      "{1: 3, 2: 2, 3: 1, 4: 3, 5: 2, 6: 1, 7: 1, 8: 2}\n"
     ]
    }
   ],
   "source": [
    "import gurobipy as gp\n",
    "\n",
    "with open(\"small.dat\", 'r') as f:\n",
    "    lines = [line.rstrip() for line in f.readlines()]\n",
    "lines = [line for line in lines if line[0] != '#']\n",
    "items = lines.pop(0).split(' ')\n",
    "m, n = int(items[0]),  int(items[1])\n",
    "M = {i for i in range(1,m+1)}\n",
    "M_p = {i for i in range(1,m+2)}\n",
    "V = {i for i in range(1,n+1)}\n",
    "V_p = {i for i in range(0,n+2)}\n",
    "items = lines.pop(0).split(' ')\n",
    "p = {i+1: int(v) for i, v in enumerate(items)}\n",
    "items = lines.pop(0).split(' ')\n",
    "o = {i+1: int(v) for i, v in enumerate(items)}\n",
    "items = lines.pop(0).split(' ')\n",
    "d = {i+1: int(v) for i, v in enumerate(items)}\n",
    "items = lines.pop(0).split(' ')\n",
    "q = {i+1: int(v) for i, v in enumerate(items)}\n",
    "q[n+1] = 1\n",
    "n_E =  int(lines.pop(0))\n",
    "E, E_b = set(), set()\n",
    "for i in range(n_E):\n",
    "    items = lines.pop(0).split(' ')\n",
    "    E.add((int(items[0]), int(items[1]),))\n",
    "    E_b.add((int(items[1]), int(items[0]),))\n",
    "    \n",
    "q_sum = sum(q.values())\n",
    "d_max, o_max = max(d), max(o)\n",
    "\n",
    "model = gp.Model('assignment')\n",
    "x = {(i,k): model.addVar(vtype = GRB.BINARY, name = \"x[{},{}]\".format(i,k)) for i in V for k in M}\n",
    "x.update({(n+1,k): 0 for k in M})\n",
    "x.update({(i,m+1): 0 for i in V})\n",
    "x[n+1,m+1] = 1\n",
    "alpha = {(i,j): model.addVar(vtype = GRB.BINARY, name = \"a[{},{}]\".format(i,j)) for (i,j) in E}\n",
    "beta = {(i,j): model.addVar(vtype = GRB.BINARY, name = \"b[{},{}]\".format(i,j)) for (i,j) in E_b}\n",
    "model.update()\n",
    "\n",
    "# 目標関数\n",
    "\n",
    " \n",
    "# 制約関数\n",
    "model.addConstrs((gp.quicksum(q[i] * x[i,k] for i in V) >= p[k] for k in M), name=\"(34)\")\n",
    "model.addConstrs((gp.quicksum(x[i,k] for k in M) == 1 for i in V), name=\"(35)\")\n",
    "model.addConstrs((gp.quicksum(o[k] * x[j,k] for k in M_p) <= gp.quicksum(o[k] * x[i,k] for k in M_p) + o_max * (1-alpha[i,j]) \n",
    "                                  for (i,j) in E if i != 0), name=\"(36)\")\n",
    "model.addConstrs((gp.quicksum(d[k] * x[j,k] for k in M_p) <= gp.quicksum(d[k] * x[i,k] for k in M_p) + d_max * (1-beta[i,j])\n",
    "                                  for (i,j) in E_b if j != 0), name=\"(37)\")\n",
    "model.addConstrs((gp.quicksum(alpha[j,i] for j in V_p if (j,i) in E) == 1 for i in V | {n+1}), name=\"(38a)\")\n",
    "model.addConstrs((gp.quicksum(beta[i,j] for j in V_p if (i,j) in E_b) == 1 for i in V | {n+1}), name=\"(38b)\")\n",
    "\n",
    "# TBD\n",
    "# 1.向きの対応\n",
    "# 2.高さ制限の対応\n",
    "# 3.元のグラフに閉路が存在する場合，さらに部分巡回路を排除する制約の追加が必要\n",
    "model.optimize()\n",
    "\n",
    "sol = {i: k for i,k in x if isinstance(x[i,k], gp.Var) and  x[i,k].x > 0.5}\n",
    "print(sol)"
   ]
  }
 ],
 "metadata": {
  "kernelspec": {
   "display_name": "Python 3.10.7 64-bit",
   "language": "python",
   "name": "python3"
  },
  "language_info": {
   "codemirror_mode": {
    "name": "ipython",
    "version": 3
   },
   "file_extension": ".py",
   "mimetype": "text/x-python",
   "name": "python",
   "nbconvert_exporter": "python",
   "pygments_lexer": "ipython3",
   "version": "3.10.7"
  },
  "vscode": {
   "interpreter": {
    "hash": "aee8b7b246df8f9039afb4144a1f6fd8d2ca17a180786b69acc140d282b71a49"
   }
  }
 },
 "nbformat": 4,
 "nbformat_minor": 5
}
